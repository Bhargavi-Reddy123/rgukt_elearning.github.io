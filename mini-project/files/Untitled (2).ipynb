{
 "cells": [
  {
   "cell_type": "code",
   "execution_count": 3,
   "metadata": {},
   "outputs": [
    {
     "name": "stdout",
     "output_type": "stream",
     "text": [
      "2399\n",
      "19199\n",
      "2399\n"
     ]
    }
   ],
   "source": [
    "import pandas as pd\n",
    "testdata=pd.read_csv('te/te-test.csv')\n",
    "traindata=pd.read_csv('te/te-train.csv')\n",
    "validdata=pd.read_csv('te/te-valid.csv')\n",
    "traindata.columns=['col1','col2']\n",
    "testdata.columns=['col1','col2']\n",
    "validdata.columns=['col1','col2']\n",
    "print(len(testdata))\n",
    "print(len(traindata))\n",
    "print(len(validdata))\n",
    "#col1=traindata.columns[0]\n",
    "#col2=traindata.columns[1]\n",
    "#news=list(traindata['col2'])\n",
    "#cats=list(set(traindata['col1']))\n",
    "#print(cats)\n",
    "cats=list(traindata['col1'])\n",
    "news=list(traindata['col2'])"
   ]
  },
  {
   "cell_type": "code",
   "execution_count": 4,
   "metadata": {},
   "outputs": [
    {
     "data": {
      "text/plain": [
       "Pipeline(steps=[('tfidfvectorizer', TfidfVectorizer()),\n",
       "                ('multinomialnb', MultinomialNB())])"
      ]
     },
     "execution_count": 4,
     "metadata": {},
     "output_type": "execute_result"
    }
   ],
   "source": [
    "from sklearn.feature_extraction.text import TfidfVectorizer #<-- these weights different words in the document based on many features like from,crime etc as per the appearence\n",
    "from sklearn.naive_bayes import MultinomialNB\n",
    "from sklearn.pipeline import make_pipeline #<--these is used for information transfer\n",
    "#creating a model based on multinomial naive bayes```\n",
    "model=make_pipeline(TfidfVectorizer(),MultinomialNB())#<--the information we are getting in TfidfVectorizer is pumped in MultinomialNM() using make_pipeline function\n",
    "\n",
    "#training the model with the train data\n",
    "model.fit(traindata['col2'],traindata['col1'])\n",
    "\n",
    "#creating the label for test data"
   ]
  },
  {
   "cell_type": "code",
   "execution_count": 5,
   "metadata": {},
   "outputs": [],
   "source": [
    "labels=model.predict(testdata['col2'])"
   ]
  },
  {
   "cell_type": "code",
   "execution_count": 6,
   "metadata": {},
   "outputs": [
    {
     "name": "stdout",
     "output_type": "stream",
     "text": [
      "[[723  16   8]\n",
      " [  9 840   7]\n",
      " [ 14  28 754]]\n",
      "0.9658190912880367\n",
      "0.9658190912880367\n"
     ]
    }
   ],
   "source": [
    "import seaborn as sns; sns.set()\n",
    "from sklearn.metrics import accuracy_score\n",
    "from sklearn.metrics import confusion_matrix\n",
    "mat=confusion_matrix(testdata['col1'],labels)\n",
    "\n",
    "print(mat)\n",
    "\n",
    "print(accuracy_score(testdata['col1'],labels))\n",
    "\n",
    "def accuracy(confusion_matrix):\n",
    "    diagonal_sum = confusion_matrix.trace()\n",
    "    sum_of_all_elements = confusion_matrix.sum()\n",
    "    return diagonal_sum / sum_of_all_elements \n",
    "\n",
    "print(accuracy(mat))"
   ]
  },
  {
   "cell_type": "code",
   "execution_count": 7,
   "metadata": {},
   "outputs": [
    {
     "data": {
      "text/plain": [
       "0.9684879420803166"
      ]
     },
     "execution_count": 7,
     "metadata": {},
     "output_type": "execute_result"
    }
   ],
   "source": [
    "labels=model.predict(traindata['col2'])\n",
    "accuracy_score(traindata['col1'],labels)"
   ]
  },
  {
   "cell_type": "code",
   "execution_count": 8,
   "metadata": {},
   "outputs": [],
   "source": [
    "#predicting categories on new data based on trained data\n",
    "def predict_category(s,train=traindata,model=model):\n",
    "    pred=model.predict([s])\n",
    "    return pred"
   ]
  },
  {
   "cell_type": "code",
   "execution_count": 9,
   "metadata": {},
   "outputs": [
    {
     "name": "stdout",
     "output_type": "stream",
     "text": [
      "predicted: ['entertainment']\n",
      "Actual: entertainment\n"
     ]
    }
   ],
   "source": [
    "print(\"predicted:\",predict_category(validdata['col2'][10]))\n",
    "print(\"Actual:\" ,validdata['col1'][10])"
   ]
  },
  {
   "cell_type": "code",
   "execution_count": 10,
   "metadata": {},
   "outputs": [
    {
     "name": "stdout",
     "output_type": "stream",
     "text": [
      "సూర్యాపేట జిల్లాలో హైవేపై రెండు కార్లు దగ్ధం WATCH LIVE TV\n",
      "'అర్జున్ రెడ్డి' డైరెక్టర్‌కి బంపర్ ఆఫర్ ?\n",
      "అర్జున్ రెడ్డి సినిమాతో విమర్శకుల ప్రశంసలు అందుకున్న డైరెక్టర్ సందీప్ రెడ్డి వంగ. అర్జున్ రెడ్డి సినిమా డైరెక్టర్‌గా అతడికి మొదటి...\n",
      "TNN | Updated:\n",
      "Oct 31, 2017, 10:43PM IST\n",
      "అర్జున్ రెడ్డి సినిమాతో విమర్శకుల ప్రశంసలు అందుకున్న డైరెక్టర్ సందీప్ రెడ్డి వంగ. అర్జున్ రెడ్డి సినిమా డైరెక్టర్&zwnj;గా అతడికి మొదటి సినిమానే అయినప్పటికీ.. ఎంతో అనుభవం వున్న దర్శకుడిగా ఆ చిత్రాన్ని తెరకెక్కించిన తీరు అతడిని సినీ ప్రముఖుల ప్రశంసలు అందుకునేలా చేసింది. తెలుగునాట సూపర్ హిట్ అయిన ఈ సినిమాపై ఇతర సినీ ప్రముఖుల కన్ను పడటం, ఆల్రెడీ తమిళంలో స్టార్ హీరో విక్రమ్ కొడుకు ధృవ్ విక్రమ్&zwnj;ని హీరోగా పరిచయం చేస్తూ తమిళ రీమేక్ చేయడానికి చకచకా ఏర్పాట్లు సైతం జరిగిపోతున్నాయి.\n",
      "ఈ క్రమంలోనే తాజాగా వినిపిస్తున్న బాలీవుడ్ టాక్ ఏంటంటే.. అర్జున్ రెడ్డి సినిమాపై మనసు పారేసుకున్న పలువురు బాలీవుడ్ ఫిలింమేకర్స్ ఈ సినిమాని హిందీలో రీమేక్ చేసేందుకు సందీప్ రెడ్డి వంగతో కాంట్రాక్ట్ సైన్ చేసేందుకు ప్రయత్నిస్తున్నారట. అంతేకాకుండా అర్జున్ రెడ్డి సినిమాను తెలుగుకన్నా హిందీలో మరింత బోల్డ్&zwnj;గా తెరకెక్కించే స్వేచ్ఛ సైతం వుంటుందని సూచించారట సదరు నిర్మాతలు.\n",
      "ఒకవేళ ఈ ఆఫర్&zwnj;కి సందీప్ రెడ్డి వంగ కానీ ఒప్పుకుంటే, మొట్టమొదటి సినిమాతో హిట్ కొట్టి రెండో సినిమాకే బాలీవుడ్&zwnj;లో అడుగుపెట్టే బంపర్ ఆఫర్&zwnj;ని దక్కించుకున్న డైరెక్టర్ అవడం ఖాయం.\n"
     ]
    }
   ],
   "source": [
    "print(validdata['col2'][1])"
   ]
  },
  {
   "cell_type": "code",
   "execution_count": 11,
   "metadata": {},
   "outputs": [
    {
     "data": {
      "text/plain": [
       "array(['entertainment'], dtype='<U13')"
      ]
     },
     "execution_count": 11,
     "metadata": {},
     "output_type": "execute_result"
    }
   ],
   "source": [
    "model.predict([\"బాహుబలి.. బాహుబలి.. బాహుబలి.. ఎక్కడ చూసిన ఏ నోట విన్నా ఇదే పేరు, అందరూ ఈ సినిమా టికెట్స్ కోసం విశ్వప్రయత్నాలు చేసారు. భారత చలన చిత్ర దశ దిశని మార్చేలా కొన్ని వందల మంది రెండున్నరేళ్ళు కష్టపడి అత్యంత భారీ బడ్జెట్ తో, హై టెక్నికల్ స్టాండర్డ్స్ తో, భారీ సెట్టింగులతో మన ముందుకు తీసుకువచ్చిన ఫస్ట్ ఇండియన్ బిగ్గెస్ట్ మోషన్ పిక్చర్ ‘బాహుబలి – ది బిగెనింగ్’. బాహుబలి ప్రాంచైజ్ లో ఇది మొదటి పార్ట్. టాలీవుడ్ జక్కన్న ఎస్ఎస్ రాజమౌళి కలల ప్రాజెక్ట్ అయిన ఈ సినిమాలో యంగ్ రెబల్ స్టార్ ప్రభాస్ హీరోగా రానా దగ్గుబాటి విలన్ గా కనిపించగా అనుష్క, తమన్నాలు హీరోయిన్స్ గా కనిపించారు. ఇంకా ఎంతోమంది టాలెంటెడ్ యాక్టర్స్ తో పాటు, అవార్డు విన్నింగ్ టెక్నీషియన్స్ పనిచేసిన ఈ సినిమా ఈ రోజు 4 భాషల్లో విడుదలైంది.\"])"
   ]
  },
  {
   "cell_type": "code",
   "execution_count": 12,
   "metadata": {},
   "outputs": [
    {
     "data": {
      "text/plain": [
       "array(['business'], dtype='<U13')"
      ]
     },
     "execution_count": 12,
     "metadata": {},
     "output_type": "execute_result"
    }
   ],
   "source": [
    "model.predict([\"రిజర్వు బ్యాంక్ తాజాగా హెచ్‌డీఎఫ్‌సీ బ్యాంక్‌కు ఝలక్ ఇచ్చింది. కీలక నిర్ణయం తీసుకుంది. భారీ జరిమానా విధించింది. హెచ్‌డీఎఫ్‌సీ బ్యాంక్ నిబంధనలను అతిక్రమించడం కారణంగా జరిమానా విధించామని ఆర్‌బీఐ పేర్కొంది.\"])"
   ]
  },
  {
   "cell_type": "code",
   "execution_count": 13,
   "metadata": {},
   "outputs": [
    {
     "data": {
      "text/plain": [
       "array(['sports'], dtype='<U13')"
      ]
     },
     "execution_count": 13,
     "metadata": {},
     "output_type": "execute_result"
    }
   ],
   "source": [
    "model.predict([\"భారత్‌, ఇంగ్లండ్‌ మధ్య జరగనున్న 5 మ్యాచ్‌ల టెస్ట్‌ సీరీస్‌ ముగిసిన వెంటనే సెప్టెంబర్‌ 18 లేదా 19 నుంచి షార్జా, అబుదాబి, దుబాయ్‌లలో మిగిలిన ఐపీఎల్‌ మ్యాచ్‌లు నిర్వహించనున్నట్లు బీసీసీఐ వర్గాలు పేర్కొన్నట్లు తెలుస్తోంది. దీంతో భారత్‌, ఇంగ్లండ్‌ క్రికెటర్లు నేరుగా ఇంగ్లండ్‌ నుంచి దుబాయ్‌కి వెళ్లనున్నారు. ఇక  యుఏఈ తమ దేశ పౌరులకు, అక్కడికి వచ్చే వారికి టీకాలు వేయడంపై చాలా కఠినంగా వ్యవహరించింది. దీంతో దుబాయ్‌లో కోవిడ్‌-19 పాజిటివ్‌ కేసుల సంఖ్య బాగా తగ్గిపోయింది. ఈ ఏడాది ఐపీఎల్‌ సగంలోనే కోవిడ్‌ కారణంగా నిలిచిపోయింది. దాంతో సెకండ్‌ ఫేజ్‌ను నిర్వహణకు తీవ్ర కసరత్తు చేసిన బీసీసీఐ.. యూఏఈనే వేదికగా ఖరారు చేస్తూ నిర్ణయం తీసుకుంది. \"])"
   ]
  },
  {
   "cell_type": "code",
   "execution_count": null,
   "metadata": {},
   "outputs": [],
   "source": [
    "https://github.com/SurajPatidar201198/News-classification-using-Naive-Bayes-Method/blob/master/Naive-Bayes%20Classification%20(1).ipynb"
   ]
  }
 ],
 "metadata": {
  "kernelspec": {
   "display_name": "Python 3",
   "language": "python",
   "name": "python3"
  },
  "language_info": {
   "codemirror_mode": {
    "name": "ipython",
    "version": 3
   },
   "file_extension": ".py",
   "mimetype": "text/x-python",
   "name": "python",
   "nbconvert_exporter": "python",
   "pygments_lexer": "ipython3",
   "version": "3.7.6"
  }
 },
 "nbformat": 4,
 "nbformat_minor": 4
}
